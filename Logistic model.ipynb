{
  "nbformat": 4,
  "nbformat_minor": 0,
  "metadata": {
    "colab": {
      "provenance": [],
      "authorship_tag": "ABX9TyNbiPOOX0ubMS5F4IUu0QqW",
      "include_colab_link": true
    },
    "kernelspec": {
      "name": "python3",
      "display_name": "Python 3"
    },
    "language_info": {
      "name": "python"
    }
  },
  "cells": [
    {
      "cell_type": "markdown",
      "metadata": {
        "id": "view-in-github",
        "colab_type": "text"
      },
      "source": [
        "<a href=\"https://colab.research.google.com/github/Yuvika-14/Jwoc-Brics-Sentiment-Analysis/blob/main/Logistic%20model.ipynb\" target=\"_parent\"><img src=\"https://colab.research.google.com/assets/colab-badge.svg\" alt=\"Open In Colab\"/></a>"
      ]
    },
    {
      "cell_type": "markdown",
      "source": [
        "**Importing necessary libraries**"
      ],
      "metadata": {
        "id": "0sh6IvJ9pMJ_"
      }
    },
    {
      "cell_type": "code",
      "source": [
        "import pandas as pd\n",
        "from sklearn.model_selection import train_test_split\n",
        "from sklearn.feature_extraction.text import TfidfVectorizer\n",
        "from sklearn.linear_model import LogisticRegression\n",
        "from sklearn.metrics import accuracy_score, classification_report, confusion_matrix\n"
      ],
      "metadata": {
        "id": "yPFnCmRcoipv"
      },
      "execution_count": 10,
      "outputs": []
    },
    {
      "cell_type": "markdown",
      "source": [
        "**Importing dataset**"
      ],
      "metadata": {
        "id": "DrLQLKJEpTvB"
      }
    },
    {
      "cell_type": "code",
      "source": [
        "df=pd.read_csv('new2.csv')\n",
        "df.columns\n"
      ],
      "metadata": {
        "colab": {
          "base_uri": "https://localhost:8080/"
        },
        "id": "wtcv1sPCZquv",
        "outputId": "485e5cce-efdb-4007-c784-e72bded4e070"
      },
      "execution_count": 11,
      "outputs": [
        {
          "output_type": "execute_result",
          "data": {
            "text/plain": [
              "Index(['Unnamed: 0', 'textDisplay', 'likeCount', 'label'], dtype='object')"
            ]
          },
          "metadata": {},
          "execution_count": 11
        }
      ]
    },
    {
      "cell_type": "markdown",
      "source": [
        "**Spliting dataset**"
      ],
      "metadata": {
        "id": "B6TikplSph8Q"
      }
    },
    {
      "cell_type": "code",
      "source": [
        "# Drop unnecessary columns\n",
        "df = df[['textDisplay', 'label']]\n",
        "\n",
        "# Handle missing values if any\n",
        "df = df.dropna()\n",
        "\n",
        "# Split the dataset into training and testing sets\n",
        "X_train, X_test, y_train, y_test = train_test_split(df['textDisplay'], df['label'], test_size=0.2, random_state=42)\n"
      ],
      "metadata": {
        "id": "uGPbotosh8h3"
      },
      "execution_count": 12,
      "outputs": []
    },
    {
      "cell_type": "code",
      "source": [
        "# Convert the text data into numerical features using TF-IDF\n",
        "tfidf_vectorizer = TfidfVectorizer(max_features=5000)\n",
        "X_train_tfidf = tfidf_vectorizer.fit_transform(X_train)\n",
        "X_test_tfidf = tfidf_vectorizer.transform(X_test)\n"
      ],
      "metadata": {
        "id": "KK70lIZfh_ar"
      },
      "execution_count": 13,
      "outputs": []
    },
    {
      "cell_type": "code",
      "source": [
        "# Initialize the Naive Bayes classifier\n",
        "logreg_model = LogisticRegression()\n",
        "\n",
        "# Train the Logistic Regression model\n",
        "logreg_model.fit(X_train_tfidf, y_train)\n",
        "\n",
        "# Make predictions on the test set\n",
        "y_pred_logreg = logreg_model.predict(X_test_tfidf)\n",
        "\n",
        "# Evaluate the Logistic Regression model\n",
        "accuracy_logreg = accuracy_score(y_test, y_pred_logreg)\n",
        "conf_matrix_logreg = confusion_matrix(y_test, y_pred_logreg)\n",
        "classification_rep_logreg = classification_report(y_test, y_pred_logreg)\n",
        "\n",
        "print(f'Logistic Regression Accuracy: {accuracy_logreg}')\n",
        "print(f'Logistic Regression Confusion Matrix:\\n{conf_matrix_logreg}')\n",
        "print(f'Logistic Regression Classification Report:\\n{classification_rep_logreg}')\n"
      ],
      "metadata": {
        "colab": {
          "base_uri": "https://localhost:8080/"
        },
        "id": "8Q8NpqVWc4gE",
        "outputId": "e4b10212-2ec4-4ff3-a2d6-4083aac1359e"
      },
      "execution_count": 14,
      "outputs": [
        {
          "output_type": "stream",
          "name": "stdout",
          "text": [
            "Logistic Regression Accuracy: 0.5391304347826087\n",
            "Logistic Regression Confusion Matrix:\n",
            "[[38 12]\n",
            " [41 24]]\n",
            "Logistic Regression Classification Report:\n",
            "              precision    recall  f1-score   support\n",
            "\n",
            "           0       0.48      0.76      0.59        50\n",
            "           1       0.67      0.37      0.48        65\n",
            "\n",
            "    accuracy                           0.54       115\n",
            "   macro avg       0.57      0.56      0.53       115\n",
            "weighted avg       0.59      0.54      0.52       115\n",
            "\n"
          ]
        }
      ]
    }
  ]
}